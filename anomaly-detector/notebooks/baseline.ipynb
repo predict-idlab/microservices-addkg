{
 "cells": [
  {
   "cell_type": "code",
   "execution_count": 64,
   "metadata": {
    "collapsed": true,
    "ExecuteTime": {
     "end_time": "2024-03-26T10:54:15.471Z",
     "start_time": "2024-03-26T10:54:15.467315Z"
    }
   },
   "outputs": [],
   "source": [
    "from glob import glob\n",
    "from matplotlib import pyplot as plt\n",
    "import numpy as np\n",
    "import pandas as pd\n",
    "import plotly.express as px\n",
    "import seaborn as sns\n",
    "from sklearn.metrics import accuracy_score, precision_score, recall_score, f1_score, confusion_matrix\n",
    "from sklearn.neural_network import MLPClassifier\n",
    "import warnings"
   ]
  },
  {
   "cell_type": "code",
   "execution_count": 65,
   "outputs": [],
   "source": [
    "warnings.simplefilter(action='ignore', category=FutureWarning)\n",
    "warnings.simplefilter(action='ignore', category=pd.errors.PerformanceWarning)\n",
    "warnings.simplefilter(action='ignore', category=pd.errors.SettingWithCopyWarning)"
   ],
   "metadata": {
    "collapsed": false,
    "ExecuteTime": {
     "end_time": "2024-03-26T10:54:15.591081Z",
     "start_time": "2024-03-26T10:54:15.587938Z"
    }
   }
  },
  {
   "cell_type": "code",
   "execution_count": 66,
   "outputs": [],
   "source": [
    "def print_stats(predictions, labels_):\n",
    "    print(\"Accuracy = {}\".format(accuracy_score(labels_, predictions)))\n",
    "    print(\"Precision = {}\".format(precision_score(labels_, predictions)))\n",
    "    print(\"Recall = {}\".format(recall_score(labels_, predictions)))\n",
    "    print(\"F1 = {}\".format(f1_score(labels_, predictions)))\n",
    "    print(\"Weighted F1 = {}\".format(f1_score(labels_, predictions, average=\"weighted\")))"
   ],
   "metadata": {
    "collapsed": false,
    "ExecuteTime": {
     "end_time": "2024-03-26T10:54:15.599674Z",
     "start_time": "2024-03-26T10:54:15.593558Z"
    }
   }
  },
  {
   "cell_type": "code",
   "execution_count": 67,
   "outputs": [],
   "source": [
    "# Configuration\n",
    "TP_RANGE = 60  # 4 graphs per minute\n",
    "FP_RANGE = 60  # 4 graphs per minute\n",
    "WINDOW_SIZE = 15 * 4  # 4 graphs per minute\n",
    "DYNAMIC_FAULTS = [\"node-drain\", \"pod-autoscaler\", \"pod-delete\"]\n",
    "STATIC_FAULTS = [\"node-cpu-hog\", \"node-memory-hog\", \"pod-cpu-hog\", \"pod-memory-hog\", \"pod-network-latency\"]\n",
    "NODE_FAULTS = [\"node-cpu-hog\", \"node-memory-hog\", \"node-drain\"]"
   ],
   "metadata": {
    "collapsed": false,
    "ExecuteTime": {
     "end_time": "2024-03-26T10:54:15.611054Z",
     "start_time": "2024-03-26T10:54:15.606463Z"
    }
   }
  },
  {
   "cell_type": "code",
   "execution_count": 68,
   "outputs": [],
   "source": [
    "data = list(glob(\"../data/**/features/baseline.pickle\"))"
   ],
   "metadata": {
    "collapsed": false,
    "ExecuteTime": {
     "end_time": "2024-03-26T10:54:15.618256Z",
     "start_time": "2024-03-26T10:54:15.613115Z"
    }
   }
  },
  {
   "cell_type": "code",
   "execution_count": 69,
   "outputs": [
    {
     "name": "stdout",
     "output_type": "stream",
     "text": [
      "(28797, 10)\n"
     ]
    }
   ],
   "source": [
    "df = pd.DataFrame()\n",
    "for file in data:\n",
    "    df = pd.concat([df, pd.read_pickle(file)])\n",
    "\n",
    "df[\"request_count\"] = df[\"request_count\"].astype(float)\n",
    "df[\"request_count_5xx\"] = df[\"request_count_5xx\"].astype(float)\n",
    "\n",
    "df = df[~df.index.duplicated(keep=False)]\n",
    "\n",
    "df.fillna(0, inplace=True)\n",
    "\n",
    "print(df.shape)"
   ],
   "metadata": {
    "collapsed": false,
    "ExecuteTime": {
     "end_time": "2024-03-26T10:54:15.673196Z",
     "start_time": "2024-03-26T10:54:15.641796Z"
    }
   }
  },
  {
   "cell_type": "code",
   "execution_count": 70,
   "outputs": [
    {
     "data": {
      "text/plain": "                     request_count  request_count_5xx  request_duration_min  \\\n2024-02-10 00:00:00       1.820833                0.0             39.772159   \n2024-02-10 00:00:15       1.820833                0.0             39.772159   \n2024-02-10 00:00:30       1.716667                0.0             39.772159   \n2024-02-10 00:00:45       1.716667                0.0             39.772159   \n2024-02-10 00:01:00       1.716667                0.0             39.772159   \n\n                     request_duration_max  request_duration_average  \\\n2024-02-10 00:00:00              49.25903                 45.698252   \n2024-02-10 00:00:15              49.25903                 45.268654   \n2024-02-10 00:00:30              49.25903                 44.863246   \n2024-02-10 00:00:45              49.25903                 44.435679   \n2024-02-10 00:01:00              49.25903                 44.008111   \n\n                     request_duration_percentile_50.0  \\\n2024-02-10 00:00:00                         47.020918   \n2024-02-10 00:00:15                         47.020918   \n2024-02-10 00:00:30                         47.020918   \n2024-02-10 00:00:45                         47.020918   \n2024-02-10 00:01:00                         41.592227   \n\n                     request_duration_percentile_90.0  \\\n2024-02-10 00:00:00                         49.259030   \n2024-02-10 00:00:15                         49.259030   \n2024-02-10 00:00:30                         49.259030   \n2024-02-10 00:00:45                         49.259030   \n2024-02-10 00:01:00                         47.817676   \n\n                     request_duration_percentile_95.0  \\\n2024-02-10 00:00:00                          49.25903   \n2024-02-10 00:00:15                          49.25903   \n2024-02-10 00:00:30                          49.25903   \n2024-02-10 00:00:45                          49.25903   \n2024-02-10 00:01:00                          49.25903   \n\n                     request_duration_deviation  request_duration_variance  \n2024-02-10 00:00:00                    3.569976                  12.744728  \n2024-02-10 00:00:15                    3.711632                  13.776211  \n2024-02-10 00:00:30                    3.768974                  14.205166  \n2024-02-10 00:00:45                    3.755323                  14.102454  \n2024-02-10 00:01:00                    3.692440                  13.634114  ",
      "text/html": "<div>\n<style scoped>\n    .dataframe tbody tr th:only-of-type {\n        vertical-align: middle;\n    }\n\n    .dataframe tbody tr th {\n        vertical-align: top;\n    }\n\n    .dataframe thead th {\n        text-align: right;\n    }\n</style>\n<table border=\"1\" class=\"dataframe\">\n  <thead>\n    <tr style=\"text-align: right;\">\n      <th></th>\n      <th>request_count</th>\n      <th>request_count_5xx</th>\n      <th>request_duration_min</th>\n      <th>request_duration_max</th>\n      <th>request_duration_average</th>\n      <th>request_duration_percentile_50.0</th>\n      <th>request_duration_percentile_90.0</th>\n      <th>request_duration_percentile_95.0</th>\n      <th>request_duration_deviation</th>\n      <th>request_duration_variance</th>\n    </tr>\n  </thead>\n  <tbody>\n    <tr>\n      <th>2024-02-10 00:00:00</th>\n      <td>1.820833</td>\n      <td>0.0</td>\n      <td>39.772159</td>\n      <td>49.25903</td>\n      <td>45.698252</td>\n      <td>47.020918</td>\n      <td>49.259030</td>\n      <td>49.25903</td>\n      <td>3.569976</td>\n      <td>12.744728</td>\n    </tr>\n    <tr>\n      <th>2024-02-10 00:00:15</th>\n      <td>1.820833</td>\n      <td>0.0</td>\n      <td>39.772159</td>\n      <td>49.25903</td>\n      <td>45.268654</td>\n      <td>47.020918</td>\n      <td>49.259030</td>\n      <td>49.25903</td>\n      <td>3.711632</td>\n      <td>13.776211</td>\n    </tr>\n    <tr>\n      <th>2024-02-10 00:00:30</th>\n      <td>1.716667</td>\n      <td>0.0</td>\n      <td>39.772159</td>\n      <td>49.25903</td>\n      <td>44.863246</td>\n      <td>47.020918</td>\n      <td>49.259030</td>\n      <td>49.25903</td>\n      <td>3.768974</td>\n      <td>14.205166</td>\n    </tr>\n    <tr>\n      <th>2024-02-10 00:00:45</th>\n      <td>1.716667</td>\n      <td>0.0</td>\n      <td>39.772159</td>\n      <td>49.25903</td>\n      <td>44.435679</td>\n      <td>47.020918</td>\n      <td>49.259030</td>\n      <td>49.25903</td>\n      <td>3.755323</td>\n      <td>14.102454</td>\n    </tr>\n    <tr>\n      <th>2024-02-10 00:01:00</th>\n      <td>1.716667</td>\n      <td>0.0</td>\n      <td>39.772159</td>\n      <td>49.25903</td>\n      <td>44.008111</td>\n      <td>41.592227</td>\n      <td>47.817676</td>\n      <td>49.25903</td>\n      <td>3.692440</td>\n      <td>13.634114</td>\n    </tr>\n  </tbody>\n</table>\n</div>"
     },
     "execution_count": 70,
     "metadata": {},
     "output_type": "execute_result"
    }
   ],
   "source": [
    "df.head()"
   ],
   "metadata": {
    "collapsed": false,
    "ExecuteTime": {
     "end_time": "2024-03-26T10:54:15.686983Z",
     "start_time": "2024-03-26T10:54:15.674741Z"
    }
   }
  },
  {
   "cell_type": "markdown",
   "source": [
    "### Labels"
   ],
   "metadata": {
    "collapsed": false
   }
  },
  {
   "cell_type": "code",
   "execution_count": 71,
   "outputs": [],
   "source": [
    "labels = pd.read_csv(\"../data/labels_revised.csv\")"
   ],
   "metadata": {
    "collapsed": false,
    "ExecuteTime": {
     "end_time": "2024-03-26T10:54:15.696009Z",
     "start_time": "2024-03-26T10:54:15.688195Z"
    }
   }
  },
  {
   "cell_type": "code",
   "execution_count": 72,
   "outputs": [],
   "source": [
    "labels[\"experiment_created_at\"] = pd.to_datetime(labels[\"experiment_created_at\"])\n",
    "labels[\"experiment_started_at\"] = pd.to_datetime(labels[\"experiment_started_at\"])\n",
    "labels[\"experiment_finished_at\"] = pd.to_datetime(labels[\"experiment_finished_at\"])\n",
    "\n",
    "labels[\"fault_started_at\"] = pd.to_datetime(labels[\"fault_started_at\"])\n",
    "labels[\"fault_finished_at\"] = pd.to_datetime(labels[\"fault_finished_at\"])\n",
    "\n",
    "anomalies = pd.DataFrame()\n",
    "for idx, row in labels.iterrows():\n",
    "    df_ = df.loc[row[\"started_at\"]:row[\"finished_at\"]]\n",
    "    df_[\"fault_name\"] = row[\"fault_name\"]\n",
    "    anomalies = pd.concat([anomalies, df_])"
   ],
   "metadata": {
    "collapsed": false,
    "ExecuteTime": {
     "end_time": "2024-03-26T10:54:15.812953Z",
     "start_time": "2024-03-26T10:54:15.698246Z"
    }
   }
  },
  {
   "cell_type": "code",
   "execution_count": 73,
   "outputs": [
    {
     "name": "stdout",
     "output_type": "stream",
     "text": [
      "(28797,)\n"
     ]
    }
   ],
   "source": [
    "y = pd.Series([0 if idx not in anomalies.index else 1 for idx, row in df.iterrows()], index=df.index)\n",
    "y_label = pd.Series([\"normal\" if idx not in anomalies.index else anomalies.loc[idx][\"fault_name\"] for idx, row in df.iterrows()], index=df.index)\n",
    "print(y.shape)"
   ],
   "metadata": {
    "collapsed": false,
    "ExecuteTime": {
     "end_time": "2024-03-26T10:54:18.423348Z",
     "start_time": "2024-03-26T10:54:15.815469Z"
    }
   }
  },
  {
   "cell_type": "code",
   "execution_count": 74,
   "outputs": [
    {
     "name": "stdout",
     "output_type": "stream",
     "text": [
      "Samples: (28797,)\n",
      "Healthy: (27393,)\n",
      "Anomalous: (1404,)\n"
     ]
    }
   ],
   "source": [
    "print(f\"Samples: {y.shape}\")\n",
    "print(f\"Healthy: {y[y == 0].shape}\")\n",
    "print(f\"Anomalous: {y[y == 1].shape}\")"
   ],
   "metadata": {
    "collapsed": false,
    "ExecuteTime": {
     "end_time": "2024-03-26T10:54:18.429477Z",
     "start_time": "2024-03-26T10:54:18.424704Z"
    }
   }
  },
  {
   "cell_type": "markdown",
   "source": [
    "### Normalize"
   ],
   "metadata": {
    "collapsed": false
   }
  },
  {
   "cell_type": "code",
   "execution_count": 75,
   "outputs": [
    {
     "name": "stdout",
     "output_type": "stream",
     "text": [
      "(28797, 10)\n"
     ]
    }
   ],
   "source": [
    "def absolute_maximum_scale(series):\n",
    "    return series / series.abs().max()\n",
    "\n",
    "X = pd.DataFrame()\n",
    "for c in df.columns:\n",
    "    X[c] = absolute_maximum_scale(df[c])\n",
    "\n",
    "print(X.shape)"
   ],
   "metadata": {
    "collapsed": false,
    "ExecuteTime": {
     "end_time": "2024-03-26T10:54:18.449971Z",
     "start_time": "2024-03-26T10:54:18.431505Z"
    }
   }
  },
  {
   "cell_type": "code",
   "outputs": [
    {
     "data": {
      "text/plain": "                     request_count  request_count_5xx  request_duration_min  \\\n2024-02-10 00:00:00       0.256908                0.0              0.132078   \n2024-02-10 00:00:15       0.256908                0.0              0.132078   \n2024-02-10 00:00:30       0.242210                0.0              0.132078   \n2024-02-10 00:00:45       0.242210                0.0              0.132078   \n2024-02-10 00:01:00       0.242210                0.0              0.132078   \n\n                     request_duration_max  request_duration_average  \\\n2024-02-10 00:00:00              0.065093                  0.083930   \n2024-02-10 00:00:15              0.065093                  0.083141   \n2024-02-10 00:00:30              0.065093                  0.082397   \n2024-02-10 00:00:45              0.065093                  0.081611   \n2024-02-10 00:01:00              0.065093                  0.080826   \n\n                     request_duration_percentile_50.0  \\\n2024-02-10 00:00:00                          0.087495   \n2024-02-10 00:00:15                          0.087495   \n2024-02-10 00:00:30                          0.087495   \n2024-02-10 00:00:45                          0.087495   \n2024-02-10 00:01:00                          0.077394   \n\n                     request_duration_percentile_90.0  \\\n2024-02-10 00:00:00                          0.065093   \n2024-02-10 00:00:15                          0.065093   \n2024-02-10 00:00:30                          0.065093   \n2024-02-10 00:00:45                          0.065093   \n2024-02-10 00:01:00                          0.063189   \n\n                     request_duration_percentile_95.0  \\\n2024-02-10 00:00:00                          0.065093   \n2024-02-10 00:00:15                          0.065093   \n2024-02-10 00:00:30                          0.065093   \n2024-02-10 00:00:45                          0.065093   \n2024-02-10 00:01:00                          0.065093   \n\n                     request_duration_deviation  request_duration_variance  \n2024-02-10 00:00:00                    0.013899                   0.000193  \n2024-02-10 00:00:15                    0.014450                   0.000209  \n2024-02-10 00:00:30                    0.014673                   0.000215  \n2024-02-10 00:00:45                    0.014620                   0.000214  \n2024-02-10 00:01:00                    0.014375                   0.000207  ",
      "text/html": "<div>\n<style scoped>\n    .dataframe tbody tr th:only-of-type {\n        vertical-align: middle;\n    }\n\n    .dataframe tbody tr th {\n        vertical-align: top;\n    }\n\n    .dataframe thead th {\n        text-align: right;\n    }\n</style>\n<table border=\"1\" class=\"dataframe\">\n  <thead>\n    <tr style=\"text-align: right;\">\n      <th></th>\n      <th>request_count</th>\n      <th>request_count_5xx</th>\n      <th>request_duration_min</th>\n      <th>request_duration_max</th>\n      <th>request_duration_average</th>\n      <th>request_duration_percentile_50.0</th>\n      <th>request_duration_percentile_90.0</th>\n      <th>request_duration_percentile_95.0</th>\n      <th>request_duration_deviation</th>\n      <th>request_duration_variance</th>\n    </tr>\n  </thead>\n  <tbody>\n    <tr>\n      <th>2024-02-10 00:00:00</th>\n      <td>0.256908</td>\n      <td>0.0</td>\n      <td>0.132078</td>\n      <td>0.065093</td>\n      <td>0.083930</td>\n      <td>0.087495</td>\n      <td>0.065093</td>\n      <td>0.065093</td>\n      <td>0.013899</td>\n      <td>0.000193</td>\n    </tr>\n    <tr>\n      <th>2024-02-10 00:00:15</th>\n      <td>0.256908</td>\n      <td>0.0</td>\n      <td>0.132078</td>\n      <td>0.065093</td>\n      <td>0.083141</td>\n      <td>0.087495</td>\n      <td>0.065093</td>\n      <td>0.065093</td>\n      <td>0.014450</td>\n      <td>0.000209</td>\n    </tr>\n    <tr>\n      <th>2024-02-10 00:00:30</th>\n      <td>0.242210</td>\n      <td>0.0</td>\n      <td>0.132078</td>\n      <td>0.065093</td>\n      <td>0.082397</td>\n      <td>0.087495</td>\n      <td>0.065093</td>\n      <td>0.065093</td>\n      <td>0.014673</td>\n      <td>0.000215</td>\n    </tr>\n    <tr>\n      <th>2024-02-10 00:00:45</th>\n      <td>0.242210</td>\n      <td>0.0</td>\n      <td>0.132078</td>\n      <td>0.065093</td>\n      <td>0.081611</td>\n      <td>0.087495</td>\n      <td>0.065093</td>\n      <td>0.065093</td>\n      <td>0.014620</td>\n      <td>0.000214</td>\n    </tr>\n    <tr>\n      <th>2024-02-10 00:01:00</th>\n      <td>0.242210</td>\n      <td>0.0</td>\n      <td>0.132078</td>\n      <td>0.065093</td>\n      <td>0.080826</td>\n      <td>0.077394</td>\n      <td>0.063189</td>\n      <td>0.065093</td>\n      <td>0.014375</td>\n      <td>0.000207</td>\n    </tr>\n  </tbody>\n</table>\n</div>"
     },
     "execution_count": 76,
     "metadata": {},
     "output_type": "execute_result"
    }
   ],
   "source": [
    "X.head()"
   ],
   "metadata": {
    "collapsed": false,
    "ExecuteTime": {
     "end_time": "2024-03-26T10:54:18.464361Z",
     "start_time": "2024-03-26T10:54:18.451259Z"
    }
   },
   "execution_count": 76
  },
  {
   "cell_type": "markdown",
   "source": [
    "### TimeSeriesSplit"
   ],
   "metadata": {
    "collapsed": false
   }
  },
  {
   "cell_type": "code",
   "outputs": [],
   "source": [
    "X_train = df[(df.index >= pd.Timestamp(\"2024-02-10 16:47:02\")) & (df.index <= pd.Timestamp(\"2024-02-11 10:00:00\"))]\n",
    "Y_train = np.array([y for idx, y in enumerate(y) if\n",
    "                    pd.Timestamp(\"2024-02-10 16:47:02\") <= df.index[idx] <= pd.Timestamp(\"2024-02-11 10:00:00\")])\n",
    "\n",
    "X_val = df[(df.index >= pd.Timestamp(\"2024-02-11 10:00:00\")) & (df.index < pd.Timestamp(\"2024-02-13 06:00:00\"))]\n",
    "Y_val = np.array([y for idx, y in enumerate(y) if\n",
    "                  pd.Timestamp(\"2024-02-11 10:00:00\") <= df.index[idx] < pd.Timestamp(\"2024-02-13 06:00:00\")])\n",
    "X_val[\"label\"] = Y_val\n",
    "\n",
    "idx_anomalies = [idx for idx, y in enumerate(Y_val) if y == 1]\n",
    "X_val_balanced = X_val.iloc[idx_anomalies]\n",
    "idx_healthy = X_val.index.difference(X_val.index[idx_anomalies])\n",
    "X_val_balanced = pd.concat([X_val_balanced, X_val.loc[idx_healthy].sample(len(idx_anomalies))])\n",
    "Y_val_balanced = np.array(X_val_balanced[\"label\"])\n",
    "X_val_balanced = X_val_balanced.drop(columns=[\"label\"])\n",
    "X_val = X_val.drop(columns=[\"label\"])\n",
    "\n",
    "X_test = df[df.index >= pd.Timestamp(\"2024-02-13 06:00:00\")]\n",
    "Y_test = np.array([y for idx, y in enumerate(y) if df.index[idx] >= pd.Timestamp(\"2024-02-13 06:00:00\")])"
   ],
   "metadata": {
    "collapsed": false,
    "ExecuteTime": {
     "end_time": "2024-03-26T10:54:19.412666Z",
     "start_time": "2024-03-26T10:54:18.465853Z"
    }
   },
   "execution_count": 77
  },
  {
   "cell_type": "code",
   "execution_count": 78,
   "outputs": [
    {
     "name": "stdout",
     "output_type": "stream",
     "text": [
      "(1446, 10)\n",
      "(1446, 10)\n",
      "(723,)\n",
      "(723,)\n"
     ]
    }
   ],
   "source": [
    "print(X_val_balanced.shape)\n",
    "print(X_val_balanced.shape)\n",
    "print(Y_val_balanced[Y_val_balanced == 1].shape)\n",
    "print(Y_val_balanced[Y_val_balanced == 0].shape)"
   ],
   "metadata": {
    "collapsed": false,
    "ExecuteTime": {
     "end_time": "2024-03-26T10:54:19.422464Z",
     "start_time": "2024-03-26T10:54:19.417690Z"
    }
   }
  },
  {
   "cell_type": "markdown",
   "source": [
    "### Model"
   ],
   "metadata": {
    "collapsed": false
   }
  },
  {
   "cell_type": "code",
   "execution_count": 79,
   "outputs": [],
   "source": [
    "model = MLPClassifier(solver=\"adam\", activation=\"relu\", alpha=1e-3, hidden_layer_sizes=(100, 25, 25), random_state=1, validation_fraction=0.5)"
   ],
   "metadata": {
    "collapsed": false,
    "ExecuteTime": {
     "end_time": "2024-03-26T10:54:19.435336Z",
     "start_time": "2024-03-26T10:54:19.423558Z"
    }
   }
  },
  {
   "cell_type": "code",
   "execution_count": 80,
   "outputs": [
    {
     "data": {
      "text/plain": "MLPClassifier(alpha=0.001, hidden_layer_sizes=(100, 25, 25), random_state=1,\n              validation_fraction=0.5)",
      "text/html": "<style>#sk-container-id-4 {color: black;}#sk-container-id-4 pre{padding: 0;}#sk-container-id-4 div.sk-toggleable {background-color: white;}#sk-container-id-4 label.sk-toggleable__label {cursor: pointer;display: block;width: 100%;margin-bottom: 0;padding: 0.3em;box-sizing: border-box;text-align: center;}#sk-container-id-4 label.sk-toggleable__label-arrow:before {content: \"▸\";float: left;margin-right: 0.25em;color: #696969;}#sk-container-id-4 label.sk-toggleable__label-arrow:hover:before {color: black;}#sk-container-id-4 div.sk-estimator:hover label.sk-toggleable__label-arrow:before {color: black;}#sk-container-id-4 div.sk-toggleable__content {max-height: 0;max-width: 0;overflow: hidden;text-align: left;background-color: #f0f8ff;}#sk-container-id-4 div.sk-toggleable__content pre {margin: 0.2em;color: black;border-radius: 0.25em;background-color: #f0f8ff;}#sk-container-id-4 input.sk-toggleable__control:checked~div.sk-toggleable__content {max-height: 200px;max-width: 100%;overflow: auto;}#sk-container-id-4 input.sk-toggleable__control:checked~label.sk-toggleable__label-arrow:before {content: \"▾\";}#sk-container-id-4 div.sk-estimator input.sk-toggleable__control:checked~label.sk-toggleable__label {background-color: #d4ebff;}#sk-container-id-4 div.sk-label input.sk-toggleable__control:checked~label.sk-toggleable__label {background-color: #d4ebff;}#sk-container-id-4 input.sk-hidden--visually {border: 0;clip: rect(1px 1px 1px 1px);clip: rect(1px, 1px, 1px, 1px);height: 1px;margin: -1px;overflow: hidden;padding: 0;position: absolute;width: 1px;}#sk-container-id-4 div.sk-estimator {font-family: monospace;background-color: #f0f8ff;border: 1px dotted black;border-radius: 0.25em;box-sizing: border-box;margin-bottom: 0.5em;}#sk-container-id-4 div.sk-estimator:hover {background-color: #d4ebff;}#sk-container-id-4 div.sk-parallel-item::after {content: \"\";width: 100%;border-bottom: 1px solid gray;flex-grow: 1;}#sk-container-id-4 div.sk-label:hover label.sk-toggleable__label {background-color: #d4ebff;}#sk-container-id-4 div.sk-serial::before {content: \"\";position: absolute;border-left: 1px solid gray;box-sizing: border-box;top: 0;bottom: 0;left: 50%;z-index: 0;}#sk-container-id-4 div.sk-serial {display: flex;flex-direction: column;align-items: center;background-color: white;padding-right: 0.2em;padding-left: 0.2em;position: relative;}#sk-container-id-4 div.sk-item {position: relative;z-index: 1;}#sk-container-id-4 div.sk-parallel {display: flex;align-items: stretch;justify-content: center;background-color: white;position: relative;}#sk-container-id-4 div.sk-item::before, #sk-container-id-4 div.sk-parallel-item::before {content: \"\";position: absolute;border-left: 1px solid gray;box-sizing: border-box;top: 0;bottom: 0;left: 50%;z-index: -1;}#sk-container-id-4 div.sk-parallel-item {display: flex;flex-direction: column;z-index: 1;position: relative;background-color: white;}#sk-container-id-4 div.sk-parallel-item:first-child::after {align-self: flex-end;width: 50%;}#sk-container-id-4 div.sk-parallel-item:last-child::after {align-self: flex-start;width: 50%;}#sk-container-id-4 div.sk-parallel-item:only-child::after {width: 0;}#sk-container-id-4 div.sk-dashed-wrapped {border: 1px dashed gray;margin: 0 0.4em 0.5em 0.4em;box-sizing: border-box;padding-bottom: 0.4em;background-color: white;}#sk-container-id-4 div.sk-label label {font-family: monospace;font-weight: bold;display: inline-block;line-height: 1.2em;}#sk-container-id-4 div.sk-label-container {text-align: center;}#sk-container-id-4 div.sk-container {/* jupyter's `normalize.less` sets `[hidden] { display: none; }` but bootstrap.min.css set `[hidden] { display: none !important; }` so we also need the `!important` here to be able to override the default hidden behavior on the sphinx rendered scikit-learn.org. See: https://github.com/scikit-learn/scikit-learn/issues/21755 */display: inline-block !important;position: relative;}#sk-container-id-4 div.sk-text-repr-fallback {display: none;}</style><div id=\"sk-container-id-4\" class=\"sk-top-container\"><div class=\"sk-text-repr-fallback\"><pre>MLPClassifier(alpha=0.001, hidden_layer_sizes=(100, 25, 25), random_state=1,\n              validation_fraction=0.5)</pre><b>In a Jupyter environment, please rerun this cell to show the HTML representation or trust the notebook. <br />On GitHub, the HTML representation is unable to render, please try loading this page with nbviewer.org.</b></div><div class=\"sk-container\" hidden><div class=\"sk-item\"><div class=\"sk-estimator sk-toggleable\"><input class=\"sk-toggleable__control sk-hidden--visually\" id=\"sk-estimator-id-4\" type=\"checkbox\" checked><label for=\"sk-estimator-id-4\" class=\"sk-toggleable__label sk-toggleable__label-arrow\">MLPClassifier</label><div class=\"sk-toggleable__content\"><pre>MLPClassifier(alpha=0.001, hidden_layer_sizes=(100, 25, 25), random_state=1,\n              validation_fraction=0.5)</pre></div></div></div></div></div>"
     },
     "execution_count": 80,
     "metadata": {},
     "output_type": "execute_result"
    }
   ],
   "source": [
    "# Train the model\n",
    "model.fit(X_val_balanced, Y_val_balanced)"
   ],
   "metadata": {
    "collapsed": false,
    "ExecuteTime": {
     "end_time": "2024-03-26T10:54:20.067868Z",
     "start_time": "2024-03-26T10:54:19.438415Z"
    }
   }
  },
  {
   "cell_type": "code",
   "execution_count": 81,
   "outputs": [
    {
     "data": {
      "text/plain": "<Figure size 640x480 with 1 Axes>",
      "image/png": "[encoded data removed]"
     },
     "metadata": {},
     "output_type": "display_data"
    }
   ],
   "source": [
    "plt.plot(model.loss_curve_, label=\"Training Loss\")\n",
    "plt.legend()\n",
    "\n",
    "plt.show()"
   ],
   "metadata": {
    "collapsed": false,
    "ExecuteTime": {
     "end_time": "2024-03-26T10:54:20.353566Z",
     "start_time": "2024-03-26T10:54:20.072645Z"
    }
   }
  },
  {
   "cell_type": "code",
   "execution_count": 82,
   "outputs": [],
   "source": [
    "# Detect anomalies\n",
    "preds = model.predict(X_test)"
   ],
   "metadata": {
    "collapsed": false,
    "ExecuteTime": {
     "end_time": "2024-03-26T10:54:20.395756Z",
     "start_time": "2024-03-26T10:54:20.355173Z"
    }
   }
  },
  {
   "cell_type": "code",
   "execution_count": 83,
   "outputs": [
    {
     "name": "stdout",
     "output_type": "stream",
     "text": [
      "Accuracy = 0.8257936507936507\n",
      "Precision = 0.037833190025795355\n",
      "Recall = 0.06461086637298091\n",
      "F1 = 0.04772234273318872\n",
      "Weighted F1 = 0.846269211532084\n"
     ]
    }
   ],
   "source": [
    "print_stats(preds, Y_test)"
   ],
   "metadata": {
    "collapsed": false,
    "ExecuteTime": {
     "end_time": "2024-03-26T10:54:20.466950Z",
     "start_time": "2024-03-26T10:54:20.398221Z"
    }
   }
  },
  {
   "cell_type": "code",
   "execution_count": 84,
   "outputs": [
    {
     "data": {
      "text/plain": "<Figure size 640x480 with 2 Axes>",
      "image/png": "[encoded data removed]"
     },
     "metadata": {},
     "output_type": "display_data"
    }
   ],
   "source": [
    "ax = sns.heatmap(confusion_matrix(Y_test, preds), annot=True, cmap=\"Blues\", fmt=\"d\")\n",
    "\n",
    "ax.set_xlabel(\"Predicted\")\n",
    "ax.set_ylabel(\"Actual\")\n",
    "\n",
    "ax.xaxis.set_ticklabels(['Healthy','Anomaly'])\n",
    "ax.yaxis.set_ticklabels(['Healthy','Anomaly'])\n",
    "\n",
    "plt.show()"
   ],
   "metadata": {
    "collapsed": false,
    "ExecuteTime": {
     "end_time": "2024-03-26T10:54:20.807865Z",
     "start_time": "2024-03-26T10:54:20.470666Z"
    }
   }
  },
  {
   "cell_type": "code",
   "execution_count": 84,
   "outputs": [],
   "source": [],
   "metadata": {
    "collapsed": false,
    "ExecuteTime": {
     "end_time": "2024-03-26T10:54:20.812266Z",
     "start_time": "2024-03-26T10:54:20.809518Z"
    }
   }
  }
 ],
 "metadata": {
  "kernelspec": {
   "display_name": "Python 3",
   "language": "python",
   "name": "python3"
  },
  "language_info": {
   "codemirror_mode": {
    "name": "ipython",
    "version": 2
   },
   "file_extension": ".py",
   "mimetype": "text/x-python",
   "name": "python",
   "nbconvert_exporter": "python",
   "pygments_lexer": "ipython2",
   "version": "2.7.6"
  }
 },
 "nbformat": 4,
 "nbformat_minor": 0
}
