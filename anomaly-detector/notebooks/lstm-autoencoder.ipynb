{
 "cells": [
  {
   "cell_type": "code",
   "execution_count": 1,
   "outputs": [
    {
     "name": "stdout",
     "output_type": "stream",
     "text": [
      "WARNING:tensorflow:From C:\\Users\\Pieter\\anaconda3\\envs\\deucalion-ad\\lib\\site-packages\\keras\\src\\losses.py:2976: The name tf.losses.sparse_softmax_cross_entropy is deprecated. Please use tf.compat.v1.losses.sparse_softmax_cross_entropy instead.\n",
      "\n"
     ]
    }
   ],
   "source": [
    "from glob import glob\n",
    "import numpy as np\n",
    "import pandas as pd\n",
    "import keras\n",
    "from keras.layers import Dense, LSTM, RepeatVector, TimeDistributed\n",
    "from keras.models import Model, Sequential\n",
    "from matplotlib import pyplot as plt\n",
    "from sklearn.svm import LinearSVC"
   ],
   "metadata": {
    "collapsed": false
   }
  },
  {
   "cell_type": "code",
   "execution_count": 2,
   "outputs": [],
   "source": [
    "import warnings\n",
    "warnings.simplefilter(action='ignore', category=FutureWarning)\n",
    "warnings.simplefilter(action='ignore', category=pd.errors.PerformanceWarning)"
   ],
   "metadata": {
    "collapsed": false
   }
  },
  {
   "cell_type": "code",
   "execution_count": 3,
   "outputs": [],
   "source": [
    "WINDOW_SIZE = 60 * 4\n",
    "TP_RANGE = 60\n",
    "FP_RANGE = 60\n",
    "DYNAMIC_FAULTS = [\"node-drain\", \"pod-autoscaler\", \"pod-delete\"]\n",
    "STATIC_FAULTS = [\"node-cpu-hog\", \"node-memory-hog\", \"pod-cpu-hog\", \"pod-memory-hog\", \"pod-network-latency\"]\n",
    "NODE_FAULTS = [\"node-cpu-hog\", \"node-memory-hog\", \"node-drain\"]"
   ],
   "metadata": {
    "collapsed": false
   }
  },
  {
   "cell_type": "code",
   "execution_count": 4,
   "outputs": [],
   "source": [
    "data = list(glob(\"../data/**/features/baseline.pickle\"))"
   ],
   "metadata": {
    "collapsed": false
   }
  },
  {
   "cell_type": "code",
   "execution_count": 5,
   "outputs": [
    {
     "name": "stdout",
     "output_type": "stream",
     "text": [
      "(28797, 10)\n"
     ]
    }
   ],
   "source": [
    "df = pd.DataFrame()\n",
    "for file in data:\n",
    "    df = pd.concat([df, pd.read_pickle(file)])\n",
    "\n",
    "df[\"request_count\"] = df[\"request_count\"].astype(float)\n",
    "df[\"request_count_5xx\"] = df[\"request_count_5xx\"].astype(float)\n",
    "\n",
    "df = df[~df.index.duplicated(keep=False)]\n",
    "\n",
    "df.fillna(0, inplace=True)\n",
    "\n",
    "print(df.shape)"
   ],
   "metadata": {
    "collapsed": false
   }
  },
  {
   "cell_type": "code",
   "execution_count": 6,
   "outputs": [
    {
     "data": {
      "text/plain": "                     request_count  request_count_5xx  request_duration_min  \\\n2024-02-10 00:00:00       1.820833                0.0             39.772159   \n2024-02-10 00:00:15       1.820833                0.0             39.772159   \n2024-02-10 00:00:30       1.716667                0.0             39.772159   \n2024-02-10 00:00:45       1.716667                0.0             39.772159   \n2024-02-10 00:01:00       1.716667                0.0             39.772159   \n\n                     request_duration_max  request_duration_average  \\\n2024-02-10 00:00:00              49.25903                 45.698252   \n2024-02-10 00:00:15              49.25903                 45.268654   \n2024-02-10 00:00:30              49.25903                 44.863246   \n2024-02-10 00:00:45              49.25903                 44.435679   \n2024-02-10 00:01:00              49.25903                 44.008111   \n\n                     request_duration_percentile_50.0  \\\n2024-02-10 00:00:00                         47.020918   \n2024-02-10 00:00:15                         47.020918   \n2024-02-10 00:00:30                         47.020918   \n2024-02-10 00:00:45                         47.020918   \n2024-02-10 00:01:00                         41.592227   \n\n                     request_duration_percentile_90.0  \\\n2024-02-10 00:00:00                         49.259030   \n2024-02-10 00:00:15                         49.259030   \n2024-02-10 00:00:30                         49.259030   \n2024-02-10 00:00:45                         49.259030   \n2024-02-10 00:01:00                         47.817676   \n\n                     request_duration_percentile_95.0  \\\n2024-02-10 00:00:00                          49.25903   \n2024-02-10 00:00:15                          49.25903   \n2024-02-10 00:00:30                          49.25903   \n2024-02-10 00:00:45                          49.25903   \n2024-02-10 00:01:00                          49.25903   \n\n                     request_duration_deviation  request_duration_variance  \n2024-02-10 00:00:00                    3.569976                  12.744728  \n2024-02-10 00:00:15                    3.711632                  13.776211  \n2024-02-10 00:00:30                    3.768974                  14.205166  \n2024-02-10 00:00:45                    3.755323                  14.102454  \n2024-02-10 00:01:00                    3.692440                  13.634114  ",
      "text/html": "<div>\n<style scoped>\n    .dataframe tbody tr th:only-of-type {\n        vertical-align: middle;\n    }\n\n    .dataframe tbody tr th {\n        vertical-align: top;\n    }\n\n    .dataframe thead th {\n        text-align: right;\n    }\n</style>\n<table border=\"1\" class=\"dataframe\">\n  <thead>\n    <tr style=\"text-align: right;\">\n      <th></th>\n      <th>request_count</th>\n      <th>request_count_5xx</th>\n      <th>request_duration_min</th>\n      <th>request_duration_max</th>\n      <th>request_duration_average</th>\n      <th>request_duration_percentile_50.0</th>\n      <th>request_duration_percentile_90.0</th>\n      <th>request_duration_percentile_95.0</th>\n      <th>request_duration_deviation</th>\n      <th>request_duration_variance</th>\n    </tr>\n  </thead>\n  <tbody>\n    <tr>\n      <th>2024-02-10 00:00:00</th>\n      <td>1.820833</td>\n      <td>0.0</td>\n      <td>39.772159</td>\n      <td>49.25903</td>\n      <td>45.698252</td>\n      <td>47.020918</td>\n      <td>49.259030</td>\n      <td>49.25903</td>\n      <td>3.569976</td>\n      <td>12.744728</td>\n    </tr>\n    <tr>\n      <th>2024-02-10 00:00:15</th>\n      <td>1.820833</td>\n      <td>0.0</td>\n      <td>39.772159</td>\n      <td>49.25903</td>\n      <td>45.268654</td>\n      <td>47.020918</td>\n      <td>49.259030</td>\n      <td>49.25903</td>\n      <td>3.711632</td>\n      <td>13.776211</td>\n    </tr>\n    <tr>\n      <th>2024-02-10 00:00:30</th>\n      <td>1.716667</td>\n      <td>0.0</td>\n      <td>39.772159</td>\n      <td>49.25903</td>\n      <td>44.863246</td>\n      <td>47.020918</td>\n      <td>49.259030</td>\n      <td>49.25903</td>\n      <td>3.768974</td>\n      <td>14.205166</td>\n    </tr>\n    <tr>\n      <th>2024-02-10 00:00:45</th>\n      <td>1.716667</td>\n      <td>0.0</td>\n      <td>39.772159</td>\n      <td>49.25903</td>\n      <td>44.435679</td>\n      <td>47.020918</td>\n      <td>49.259030</td>\n      <td>49.25903</td>\n      <td>3.755323</td>\n      <td>14.102454</td>\n    </tr>\n    <tr>\n      <th>2024-02-10 00:01:00</th>\n      <td>1.716667</td>\n      <td>0.0</td>\n      <td>39.772159</td>\n      <td>49.25903</td>\n      <td>44.008111</td>\n      <td>41.592227</td>\n      <td>47.817676</td>\n      <td>49.25903</td>\n      <td>3.692440</td>\n      <td>13.634114</td>\n    </tr>\n  </tbody>\n</table>\n</div>"
     },
     "execution_count": 6,
     "metadata": {},
     "output_type": "execute_result"
    }
   ],
   "source": [
    "df.head()"
   ],
   "metadata": {
    "collapsed": false
   }
  },
  {
   "cell_type": "code",
   "execution_count": 7,
   "outputs": [],
   "source": [
    "# df = df.between_time(\"06:45:00\", \"01:15:00\")"
   ],
   "metadata": {
    "collapsed": false
   }
  },
  {
   "cell_type": "code",
   "execution_count": 8,
   "outputs": [],
   "source": [
    "labels = pd.read_csv(\"../data/labels.csv\")"
   ],
   "metadata": {
    "collapsed": false
   }
  },
  {
   "cell_type": "code",
   "execution_count": 9,
   "outputs": [],
   "source": [
    "labels[\"experiment_created_at\"] = pd.to_datetime(labels[\"experiment_created_at\"])\n",
    "labels[\"experiment_started_at\"] = pd.to_datetime(labels[\"experiment_started_at\"])\n",
    "labels[\"experiment_finished_at\"] = pd.to_datetime(labels[\"experiment_finished_at\"])\n",
    "\n",
    "labels[\"fault_started_at\"] = pd.to_datetime(labels[\"fault_started_at\"])\n",
    "labels[\"fault_finished_at\"] = pd.to_datetime(labels[\"fault_finished_at\"])\n",
    "\n",
    "anomalies = pd.DataFrame()\n",
    "for idx, row in labels.iterrows():\n",
    "    if not pd.isna(row[\"fault_started_at\"]):\n",
    "        anomalies = pd.concat([anomalies, df.iloc[df.index.get_indexer([row['fault_started_at']], method='nearest')]])\n",
    "    else:\n",
    "        anomalies = pd.concat([anomalies, df.iloc[df.index.get_indexer([row['experiment_started_at']], method='nearest')]])"
   ],
   "metadata": {
    "collapsed": false
   }
  },
  {
   "cell_type": "code",
   "execution_count": 10,
   "outputs": [
    {
     "name": "stdout",
     "output_type": "stream",
     "text": [
      "(28797,)\n"
     ]
    }
   ],
   "source": [
    "y = pd.Series([0 if idx not in anomalies.index else 1 for idx, row in df.iterrows()], index=df.index)\n",
    "print(y.shape)"
   ],
   "metadata": {
    "collapsed": false
   }
  },
  {
   "cell_type": "code",
   "execution_count": 11,
   "outputs": [
    {
     "name": "stdout",
     "output_type": "stream",
     "text": [
      "Samples: (28797,)\n",
      "Healthy: (28756,)\n",
      "Anomalous: (41,)\n"
     ]
    }
   ],
   "source": [
    "print(f\"Samples: {y.shape}\")\n",
    "print(f\"Healthy: {y[y == 0].shape}\")\n",
    "print(f\"Anomalous: {y[y == 1].shape}\")"
   ],
   "metadata": {
    "collapsed": false
   }
  },
  {
   "cell_type": "markdown",
   "source": [
    "### Split data"
   ],
   "metadata": {
    "collapsed": false
   }
  },
  {
   "cell_type": "code",
   "execution_count": 12,
   "outputs": [],
   "source": [
    "X = keras.utils.normalize(df.values, axis=0, order=2)"
   ],
   "metadata": {
    "collapsed": false
   }
  },
  {
   "cell_type": "code",
   "execution_count": 13,
   "outputs": [],
   "source": [
    "def temporalize(X, y, window_size=5):\n",
    "\n",
    "    output_X = []\n",
    "    output_y = []\n",
    "    for i in range(len(X) - window_size):\n",
    "        output_X.append(X[i:i + window_size])\n",
    "        output_y.append(y[i + window_size])\n",
    "\n",
    "    return np.array(output_X), np.array(output_y)"
   ],
   "metadata": {
    "collapsed": false
   }
  },
  {
   "cell_type": "code",
   "execution_count": 14,
   "outputs": [],
   "source": [
    "X, y = temporalize(X, y, window_size=WINDOW_SIZE)"
   ],
   "metadata": {
    "collapsed": false
   }
  },
  {
   "cell_type": "markdown",
   "source": [
    "### Split data"
   ],
   "metadata": {
    "collapsed": false
   }
  },
  {
   "cell_type": "code",
   "execution_count": 15,
   "outputs": [],
   "source": [
    "# X_train, X_test, Y_train, Y_test = train_test_split(X, y, test_size=0.2, random_state=42, shuffle=True)\n",
    "#\n",
    "# # Split healthy and anomalous examples for training\n",
    "# Y_train = list(map(bool, Y_train))\n",
    "# Y_test = list(map(bool, Y_test))\n",
    "#\n",
    "# X_train_normal = X_train[Y_train]\n",
    "# X_test_normal = X_test[Y_test]\n",
    "#\n",
    "# X_train_anomaly = X_train[Y_train]\n",
    "# X_test_anomaly = X_test[Y_test]"
   ],
   "metadata": {
    "collapsed": false
   }
  },
  {
   "cell_type": "code",
   "execution_count": 16,
   "outputs": [],
   "source": [
    "def idx_to_timestamp(idx_):\n",
    "    return df.index[idx_]\n",
    "\n",
    "def timestamp_to_idx(timestamp_):\n",
    "    return df.index.get_slice_bound(timestamp_, \"right\")"
   ],
   "metadata": {
    "collapsed": false
   }
  },
  {
   "cell_type": "code",
   "execution_count": 17,
   "outputs": [],
   "source": [
    "X_train = np.array([x for idx, x in enumerate(X) if idx_to_timestamp(idx) >= pd.Timestamp(\"2024-02-10 16:47:02\") and idx_to_timestamp(idx) <= pd.Timestamp(\"2024-02-11 10:00:00\")])\n",
    "Y_train = np.array([y for idx, y in enumerate(y) if idx_to_timestamp(idx) >= pd.Timestamp(\"2024-02-10 16:47:02\") and idx_to_timestamp(idx) <= pd.Timestamp(\"2024-02-11 10:00:00\")])\n",
    "\n",
    "X_val = np.array([x for idx, x in enumerate(X) if idx_to_timestamp(idx) > pd.Timestamp(\"2024-02-11 10:00:00\") and idx_to_timestamp(idx) < pd.Timestamp(\"2024-02-13 06:00:00\")])\n",
    "Y_val = np.array([y for idx, y in enumerate(y) if idx_to_timestamp(idx) > pd.Timestamp(\"2024-02-11 10:00:00\") and idx_to_timestamp(idx) < pd.Timestamp(\"2024-02-13 06:00:00\")])\n",
    "Y_val_ranges = []\n",
    "for idx, label in enumerate(Y_val):\n",
    "    if label == 1:\n",
    "        Y_val_ranges.append((idx-TP_RANGE, idx+TP_RANGE))\n",
    "\n",
    "X_test = np.array([x for idx, x in enumerate(X) if idx_to_timestamp(idx) >= pd.Timestamp(\"2024-02-13 06:00:00\")])\n",
    "Y_test = np.array([y for idx, y in enumerate(y) if idx_to_timestamp(idx) >= pd.Timestamp(\"2024-02-13 06:00:00\")])\n",
    "Y_test_ranges = []\n",
    "for idx, label in enumerate(Y_test):\n",
    "    if label == 1:\n",
    "        Y_test_ranges.append((idx-TP_RANGE, idx+TP_RANGE))"
   ],
   "metadata": {
    "collapsed": false
   }
  },
  {
   "cell_type": "code",
   "execution_count": 18,
   "outputs": [
    {
     "name": "stdout",
     "output_type": "stream",
     "text": [
      "(4131, 240, 10)\n",
      "(10557, 240, 10)\n",
      "(9840, 240, 10)\n"
     ]
    }
   ],
   "source": [
    "print(X_train.shape)\n",
    "print(X_val.shape)\n",
    "print(X_test.shape)"
   ],
   "metadata": {
    "collapsed": false
   }
  },
  {
   "cell_type": "code",
   "execution_count": 19,
   "outputs": [],
   "source": [
    "class LSTMAutoEncoder(Model):\n",
    "    def __init__(self):\n",
    "        super(LSTMAutoEncoder, self).__init__()\n",
    "        self.encoder = Sequential([\n",
    "            LSTM(512, activation=\"relu\", input_shape=(WINDOW_SIZE, df.shape[1]), return_sequences=True),\n",
    "            LSTM(256, activation=\"relu\", return_sequences=True),\n",
    "            LSTM(64, activation=\"relu\", return_sequences=False),\n",
    "            RepeatVector(WINDOW_SIZE),\n",
    "        ])\n",
    "\n",
    "        self.decoder = Sequential([\n",
    "            LSTM(64, activation=\"relu\", return_sequences=True),\n",
    "            LSTM(256, activation=\"relu\", return_sequences=True),\n",
    "            LSTM(512, activation=\"relu\", return_sequences=True),\n",
    "            TimeDistributed(Dense(df.shape[1]))\n",
    "        ])\n",
    "\n",
    "    def call(self, inputs, training=None, mask=None):\n",
    "        encoded = self.encoder(inputs)\n",
    "        decoded = self.decoder(encoded)\n",
    "        return decoded"
   ],
   "metadata": {
    "collapsed": false
   }
  },
  {
   "cell_type": "code",
   "execution_count": 20,
   "outputs": [
    {
     "name": "stdout",
     "output_type": "stream",
     "text": [
      "WARNING:tensorflow:From C:\\Users\\Pieter\\anaconda3\\envs\\deucalion-ad\\lib\\site-packages\\keras\\src\\backend.py:873: The name tf.get_default_graph is deprecated. Please use tf.compat.v1.get_default_graph instead.\n",
      "\n",
      "WARNING:tensorflow:From C:\\Users\\Pieter\\anaconda3\\envs\\deucalion-ad\\lib\\site-packages\\keras\\src\\optimizers\\__init__.py:309: The name tf.train.Optimizer is deprecated. Please use tf.compat.v1.train.Optimizer instead.\n",
      "\n"
     ]
    }
   ],
   "source": [
    "# Create the model\n",
    "model = LSTMAutoEncoder()\n",
    "model.compile(optimizer='adam', loss='mae')"
   ],
   "metadata": {
    "collapsed": false
   }
  },
  {
   "cell_type": "code",
   "execution_count": 21,
   "outputs": [
    {
     "name": "stdout",
     "output_type": "stream",
     "text": [
      "(4131, 240, 10)\n"
     ]
    }
   ],
   "source": [
    "print(X_train.shape)"
   ],
   "metadata": {
    "collapsed": false
   }
  },
  {
   "cell_type": "code",
   "execution_count": 22,
   "outputs": [
    {
     "name": "stdout",
     "output_type": "stream",
     "text": [
      "Epoch 1/20\n",
      "WARNING:tensorflow:From C:\\Users\\Pieter\\anaconda3\\envs\\deucalion-ad\\lib\\site-packages\\keras\\src\\utils\\tf_utils.py:492: The name tf.ragged.RaggedTensorValue is deprecated. Please use tf.compat.v1.ragged.RaggedTensorValue instead.\n",
      "\n",
      "130/130 [==============================] - 387s 3s/step - loss: 8.2277e-04\n",
      "Epoch 2/20\n",
      "130/130 [==============================] - 404s 3s/step - loss: 6.9439e-04\n",
      "Epoch 3/20\n",
      "130/130 [==============================] - 403s 3s/step - loss: 6.5778e-04\n",
      "Epoch 4/20\n",
      "130/130 [==============================] - 408s 3s/step - loss: 6.7858e-04\n",
      "Epoch 5/20\n",
      "130/130 [==============================] - 403s 3s/step - loss: 6.6366e-04\n",
      "Epoch 6/20\n",
      "130/130 [==============================] - 406s 3s/step - loss: 6.7914e-04\n",
      "Epoch 7/20\n",
      "130/130 [==============================] - 391s 3s/step - loss: 6.7969e-04\n",
      "Epoch 8/20\n",
      "130/130 [==============================] - 394s 3s/step - loss: 6.6002e-04\n",
      "Epoch 9/20\n",
      "130/130 [==============================] - 399s 3s/step - loss: 6.6634e-04\n",
      "Epoch 10/20\n",
      "130/130 [==============================] - 399s 3s/step - loss: 6.5357e-04\n",
      "Epoch 11/20\n",
      "130/130 [==============================] - 385s 3s/step - loss: 6.8042e-04\n",
      "Epoch 12/20\n",
      "130/130 [==============================] - 355s 3s/step - loss: 6.5684e-04\n",
      "Epoch 13/20\n",
      "130/130 [==============================] - 305s 2s/step - loss: 6.7866e-04\n",
      "Epoch 14/20\n",
      "130/130 [==============================] - 274s 2s/step - loss: 6.6681e-04\n",
      "Epoch 15/20\n",
      "130/130 [==============================] - 276s 2s/step - loss: 6.6182e-04\n",
      "Epoch 16/20\n",
      "130/130 [==============================] - 272s 2s/step - loss: 6.7324e-04\n",
      "Epoch 17/20\n",
      "130/130 [==============================] - 275s 2s/step - loss: 6.8741e-04\n",
      "Epoch 18/20\n",
      "130/130 [==============================] - 279s 2s/step - loss: 6.7157e-04\n",
      "Epoch 19/20\n",
      "130/130 [==============================] - 275s 2s/step - loss: 6.7837e-04\n",
      "Epoch 20/20\n",
      "130/130 [==============================] - 272s 2s/step - loss: 6.6866e-04\n"
     ]
    },
    {
     "data": {
      "text/plain": "<keras.src.callbacks.History at 0x1666d4956c0>"
     },
     "execution_count": 22,
     "metadata": {},
     "output_type": "execute_result"
    }
   ],
   "source": [
    "# Train the model\n",
    "model.fit(X_train, X_train, epochs=20, shuffle=False)"
   ],
   "metadata": {
    "collapsed": false
   }
  },
  {
   "cell_type": "code",
   "execution_count": 23,
   "outputs": [
    {
     "data": {
      "text/plain": "<Figure size 640x480 with 1 Axes>",
      "image/png": "[encoded data removed]"
     },
     "metadata": {},
     "output_type": "display_data"
    }
   ],
   "source": [
    "plt.plot(model.history.history[\"loss\"], label=\"Training Loss\")\n",
    "plt.legend()\n",
    "\n",
    "plt.show()"
   ],
   "metadata": {
    "collapsed": false
   }
  },
  {
   "cell_type": "code",
   "execution_count": 24,
   "outputs": [
    {
     "name": "stdout",
     "output_type": "stream",
     "text": [
      "130/130 [==============================] - 64s 482ms/step\n"
     ]
    }
   ],
   "source": [
    "# Reconstruction of train data (healthy)\n",
    "reconstructions = model.predict(X_train)"
   ],
   "metadata": {
    "collapsed": false
   }
  },
  {
   "cell_type": "code",
   "execution_count": 25,
   "outputs": [
    {
     "data": {
      "text/plain": "(10557, 240, 10)"
     },
     "execution_count": 25,
     "metadata": {},
     "output_type": "execute_result"
    }
   ],
   "source": [
    "X_val.shape"
   ],
   "metadata": {
    "collapsed": false
   }
  },
  {
   "cell_type": "code",
   "execution_count": 26,
   "outputs": [
    {
     "name": "stdout",
     "output_type": "stream",
     "text": [
      "330/330 [==============================] - 156s 474ms/step\n"
     ]
    },
    {
     "data": {
      "text/plain": "<Figure size 640x480 with 1 Axes>",
      "image/png": "[encoded data removed]"
     },
     "metadata": {},
     "output_type": "display_data"
    }
   ],
   "source": [
    "# Reconstruction of validation data\n",
    "reconstructions = model.predict(X_val)\n",
    "val_loss = np.array(keras.losses.mae(reconstructions, X_val))\n",
    "val_loss = val_loss.mean(axis=1)\n",
    "\n",
    "plt.hist(val_loss, bins=50)\n",
    "plt.xlabel(\"Validation loss\")\n",
    "plt.ylabel(\"No of examples\")\n",
    "plt.show()"
   ],
   "metadata": {
    "collapsed": false
   }
  },
  {
   "cell_type": "code",
   "execution_count": 27,
   "outputs": [
    {
     "name": "stdout",
     "output_type": "stream",
     "text": [
      "Threshold:  0.0028216919262960887\n"
     ]
    }
   ],
   "source": [
    "threshold = np.mean(val_loss) + np.std(val_loss)\n",
    "print(\"Threshold: \", threshold)"
   ],
   "metadata": {
    "collapsed": false
   }
  },
  {
   "cell_type": "code",
   "execution_count": 28,
   "outputs": [
    {
     "data": {
      "text/plain": "LinearSVC(class_weight='balanced', dual='auto', loss='hinge', max_iter=10000,\n          tol=0.001)",
      "text/html": "<style>#sk-container-id-1 {color: black;}#sk-container-id-1 pre{padding: 0;}#sk-container-id-1 div.sk-toggleable {background-color: white;}#sk-container-id-1 label.sk-toggleable__label {cursor: pointer;display: block;width: 100%;margin-bottom: 0;padding: 0.3em;box-sizing: border-box;text-align: center;}#sk-container-id-1 label.sk-toggleable__label-arrow:before {content: \"▸\";float: left;margin-right: 0.25em;color: #696969;}#sk-container-id-1 label.sk-toggleable__label-arrow:hover:before {color: black;}#sk-container-id-1 div.sk-estimator:hover label.sk-toggleable__label-arrow:before {color: black;}#sk-container-id-1 div.sk-toggleable__content {max-height: 0;max-width: 0;overflow: hidden;text-align: left;background-color: #f0f8ff;}#sk-container-id-1 div.sk-toggleable__content pre {margin: 0.2em;color: black;border-radius: 0.25em;background-color: #f0f8ff;}#sk-container-id-1 input.sk-toggleable__control:checked~div.sk-toggleable__content {max-height: 200px;max-width: 100%;overflow: auto;}#sk-container-id-1 input.sk-toggleable__control:checked~label.sk-toggleable__label-arrow:before {content: \"▾\";}#sk-container-id-1 div.sk-estimator input.sk-toggleable__control:checked~label.sk-toggleable__label {background-color: #d4ebff;}#sk-container-id-1 div.sk-label input.sk-toggleable__control:checked~label.sk-toggleable__label {background-color: #d4ebff;}#sk-container-id-1 input.sk-hidden--visually {border: 0;clip: rect(1px 1px 1px 1px);clip: rect(1px, 1px, 1px, 1px);height: 1px;margin: -1px;overflow: hidden;padding: 0;position: absolute;width: 1px;}#sk-container-id-1 div.sk-estimator {font-family: monospace;background-color: #f0f8ff;border: 1px dotted black;border-radius: 0.25em;box-sizing: border-box;margin-bottom: 0.5em;}#sk-container-id-1 div.sk-estimator:hover {background-color: #d4ebff;}#sk-container-id-1 div.sk-parallel-item::after {content: \"\";width: 100%;border-bottom: 1px solid gray;flex-grow: 1;}#sk-container-id-1 div.sk-label:hover label.sk-toggleable__label {background-color: #d4ebff;}#sk-container-id-1 div.sk-serial::before {content: \"\";position: absolute;border-left: 1px solid gray;box-sizing: border-box;top: 0;bottom: 0;left: 50%;z-index: 0;}#sk-container-id-1 div.sk-serial {display: flex;flex-direction: column;align-items: center;background-color: white;padding-right: 0.2em;padding-left: 0.2em;position: relative;}#sk-container-id-1 div.sk-item {position: relative;z-index: 1;}#sk-container-id-1 div.sk-parallel {display: flex;align-items: stretch;justify-content: center;background-color: white;position: relative;}#sk-container-id-1 div.sk-item::before, #sk-container-id-1 div.sk-parallel-item::before {content: \"\";position: absolute;border-left: 1px solid gray;box-sizing: border-box;top: 0;bottom: 0;left: 50%;z-index: -1;}#sk-container-id-1 div.sk-parallel-item {display: flex;flex-direction: column;z-index: 1;position: relative;background-color: white;}#sk-container-id-1 div.sk-parallel-item:first-child::after {align-self: flex-end;width: 50%;}#sk-container-id-1 div.sk-parallel-item:last-child::after {align-self: flex-start;width: 50%;}#sk-container-id-1 div.sk-parallel-item:only-child::after {width: 0;}#sk-container-id-1 div.sk-dashed-wrapped {border: 1px dashed gray;margin: 0 0.4em 0.5em 0.4em;box-sizing: border-box;padding-bottom: 0.4em;background-color: white;}#sk-container-id-1 div.sk-label label {font-family: monospace;font-weight: bold;display: inline-block;line-height: 1.2em;}#sk-container-id-1 div.sk-label-container {text-align: center;}#sk-container-id-1 div.sk-container {/* jupyter's `normalize.less` sets `[hidden] { display: none; }` but bootstrap.min.css set `[hidden] { display: none !important; }` so we also need the `!important` here to be able to override the default hidden behavior on the sphinx rendered scikit-learn.org. See: https://github.com/scikit-learn/scikit-learn/issues/21755 */display: inline-block !important;position: relative;}#sk-container-id-1 div.sk-text-repr-fallback {display: none;}</style><div id=\"sk-container-id-1\" class=\"sk-top-container\"><div class=\"sk-text-repr-fallback\"><pre>LinearSVC(class_weight=&#x27;balanced&#x27;, dual=&#x27;auto&#x27;, loss=&#x27;hinge&#x27;, max_iter=10000,\n          tol=0.001)</pre><b>In a Jupyter environment, please rerun this cell to show the HTML representation or trust the notebook. <br />On GitHub, the HTML representation is unable to render, please try loading this page with nbviewer.org.</b></div><div class=\"sk-container\" hidden><div class=\"sk-item\"><div class=\"sk-estimator sk-toggleable\"><input class=\"sk-toggleable__control sk-hidden--visually\" id=\"sk-estimator-id-1\" type=\"checkbox\" checked><label for=\"sk-estimator-id-1\" class=\"sk-toggleable__label sk-toggleable__label-arrow\">LinearSVC</label><div class=\"sk-toggleable__content\"><pre>LinearSVC(class_weight=&#x27;balanced&#x27;, dual=&#x27;auto&#x27;, loss=&#x27;hinge&#x27;, max_iter=10000,\n          tol=0.001)</pre></div></div></div></div></div>"
     },
     "execution_count": 28,
     "metadata": {},
     "output_type": "execute_result"
    }
   ],
   "source": [
    "Y_val_ = []\n",
    "for i, _ in enumerate(Y_val):\n",
    "    anomalous = False\n",
    "    for idx1, idx2 in Y_val_ranges:\n",
    "        if idx1 <= i <= idx2:\n",
    "            anomalous = True\n",
    "    Y_val_.append(anomalous)\n",
    "\n",
    "svm_x = np.array(val_loss).reshape(-1, 1)\n",
    "svm_y = np.array(Y_val_)\n",
    "svm = LinearSVC(dual=\"auto\", max_iter=10000, tol=1e-3, class_weight=\"balanced\", loss=\"hinge\")\n",
    "svm.fit(svm_x, svm_y)"
   ],
   "metadata": {
    "collapsed": false
   }
  },
  {
   "cell_type": "code",
   "execution_count": 29,
   "outputs": [],
   "source": [
    "# threshold = 0.0025"
   ],
   "metadata": {
    "collapsed": false
   }
  },
  {
   "cell_type": "code",
   "execution_count": 30,
   "outputs": [
    {
     "name": "stdout",
     "output_type": "stream",
     "text": [
      "308/308 [==============================] - 142s 462ms/step\n"
     ]
    }
   ],
   "source": [
    "# Detect anomalies\n",
    "results = model.predict(X_test)\n",
    "test_loss = np.array(keras.losses.mae(results, X_test))\n",
    "test_loss = test_loss.mean(axis=1)"
   ],
   "metadata": {
    "collapsed": false
   }
  },
  {
   "cell_type": "code",
   "execution_count": 31,
   "outputs": [
    {
     "data": {
      "text/plain": "<Figure size 640x480 with 1 Axes>",
      "image/png": "[encoded data removed]"
     },
     "metadata": {},
     "output_type": "display_data"
    }
   ],
   "source": [
    "plt.hist(test_loss, bins=50)\n",
    "plt.xlabel(\"Test loss\")\n",
    "plt.ylabel(\"No of examples\")\n",
    "plt.show()"
   ],
   "metadata": {
    "collapsed": false
   }
  },
  {
   "cell_type": "code",
   "execution_count": 32,
   "outputs": [],
   "source": [
    "preds = [loss > threshold for loss in test_loss]"
   ],
   "metadata": {
    "collapsed": false
   }
  },
  {
   "cell_type": "code",
   "execution_count": 33,
   "outputs": [],
   "source": [
    "# preds = svm.predict(np.array(test_loss).reshape(-1, 1))"
   ],
   "metadata": {
    "collapsed": false
   }
  },
  {
   "cell_type": "code",
   "execution_count": 34,
   "outputs": [],
   "source": [
    "def evaluate(true_regions, predicted_timestamps, false_pos_region_delta=None):\n",
    "    true_positives = 0\n",
    "    false_positives = 0\n",
    "    total_positives = 0\n",
    "\n",
    "    found_true_positive = set()\n",
    "    found_false_positive = set()\n",
    "    # Iterate over each predicted timestamp\n",
    "    for timestamp in predicted_timestamps:\n",
    "        timestamp_found = False\n",
    "        # Iterate over each true window\n",
    "        for true_start, true_end in true_regions:\n",
    "            # Check if the predicted timestamp falls within the current true window\n",
    "            if true_start <= timestamp <= true_end:\n",
    "                # If it falls within the window and a true positive within the window was already found ,\n",
    "                # just continue, this are predictions related and close to eachother\n",
    "                if (true_start, true_end) in found_true_positive:\n",
    "                    timestamp_found = True\n",
    "                    break\n",
    "                # If it falls within the window and a true positive within the window is not found yet,\n",
    "                # count it as a true positive and set the flag to True\n",
    "                true_positives += 1\n",
    "                found_true_positive.add((true_start, true_end))\n",
    "                timestamp_found=True\n",
    "                break\n",
    "        # If the predicted timestamp falls outside the window, count it as a false positive\n",
    "        if not timestamp_found:\n",
    "            # but check if a previous false positive was within the range of an already detected false positive\n",
    "            in_region = False\n",
    "            for region in found_false_positive:\n",
    "                if region[0] <= timestamp <= region[1]:\n",
    "                    #if so, we just neglect it\n",
    "                    in_region = True\n",
    "                    break\n",
    "            if not in_region:\n",
    "                # otherwise, we add it, together with its range\n",
    "                false_positives += 1\n",
    "                if false_pos_region_delta is not None:\n",
    "                    found_false_positive.add((timestamp, timestamp+false_pos_region_delta))\n",
    "\n",
    "\n",
    "    # Calculate total number of true positives\n",
    "    total_positives = len(true_regions)\n",
    "    # Calculate precision and recall\n",
    "    precision = true_positives / (true_positives + false_positives) if (true_positives + false_positives) != 0 else 0\n",
    "    recall = true_positives / total_positives if total_positives != 0 else 0\n",
    "    f1 = 2 * (precision * recall) / (precision + recall) if (precision + recall) != 0 else 0\n",
    "    return precision, recall, f1"
   ],
   "metadata": {
    "collapsed": false
   }
  },
  {
   "cell_type": "code",
   "execution_count": 35,
   "outputs": [],
   "source": [
    "prec, recall, f1 = evaluate(Y_test_ranges, [idx for idx, p in enumerate(preds) if p], false_pos_region_delta=FP_RANGE)"
   ],
   "metadata": {
    "collapsed": false
   }
  },
  {
   "cell_type": "code",
   "execution_count": 36,
   "outputs": [
    {
     "name": "stdout",
     "output_type": "stream",
     "text": [
      "Precision: 0.17391304347826086\n",
      "Recall: 0.2\n",
      "F1: 0.18604651162790697\n"
     ]
    }
   ],
   "source": [
    "print(f\"Precision: {prec}\")\n",
    "print(f\"Recall: {recall}\")\n",
    "print(f\"F1: {f1}\")"
   ],
   "metadata": {
    "collapsed": false
   }
  },
  {
   "cell_type": "code",
   "execution_count": 37,
   "outputs": [
    {
     "data": {
      "text/plain": "<Figure size 1500x500 with 1 Axes>",
      "image/png": "[encoded data removed]"
     },
     "metadata": {},
     "output_type": "display_data"
    }
   ],
   "source": [
    "plt.figure(figsize=(15,5))\n",
    "pred, = plt.plot([idx_to_timestamp((len(X) - len(Y_train) - len(Y_val) - len(Y_test)) + len(Y_train) + len(Y_val) + idx) for idx, _ in enumerate(preds)], preds, label=\"Predictions\")\n",
    "plt.gca().set_xlim((df.index[0], df.index[-1]))\n",
    "\n",
    "dynamic_ = []\n",
    "static_ = []\n",
    "for i, row in labels.iterrows():\n",
    "    # plt.axvline(x=row[\"fault_started_at\"], color=\"green\", linestyle=\"--\", label=\"Vertical Line\")\n",
    "    # plt.axvline(x=row[\"fault_finished_at\"], color=\"red\", linestyle=\"--\", label=\"Vertical Line\")\n",
    "    # plt.axvspan(row[\"fault_started_at\"], row[\"fault_finished_at\"], color=\"green\", alpha=0.5)\n",
    "    if not pd.isna(row[\"fault_started_at\"]):\n",
    "        ax = plt.axvspan(row[\"fault_started_at\"], row[\"fault_finished_at\"], color=\"red\", alpha=0.5, label=\"Static Fault\")\n",
    "\n",
    "plt.show()"
   ],
   "metadata": {
    "collapsed": false
   }
  },
  {
   "cell_type": "code",
   "execution_count": 37,
   "outputs": [],
   "source": [],
   "metadata": {
    "collapsed": false
   }
  }
 ],
 "metadata": {
  "kernelspec": {
   "display_name": "Python 3",
   "language": "python",
   "name": "python3"
  },
  "language_info": {
   "codemirror_mode": {
    "name": "ipython",
    "version": 2
   },
   "file_extension": ".py",
   "mimetype": "text/x-python",
   "name": "python",
   "nbconvert_exporter": "python",
   "pygments_lexer": "ipython2",
   "version": "2.7.6"
  }
 },
 "nbformat": 4,
 "nbformat_minor": 0
}
